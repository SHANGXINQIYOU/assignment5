{
 "cells": [
  {
   "cell_type": "code",
   "execution_count": 1,
   "id": "41d4902b-b877-4076-8412-0a42ac3cbb08",
   "metadata": {},
   "outputs": [
    {
     "name": "stdout",
     "output_type": "stream",
     "text": [
      "{6: 0.07998971193415638, 8: 0.2330246913580247, 10: 0.32060185185185186, 4: 0.009259259259259259, 12: 0.2645318930041152, 14: 0.09259259259259259}\n"
     ]
    },
    {
     "data": {
      "image/png": "[encoded data removed]",
      "text/plain": [
       "<Figure size 720x432 with 1 Axes>"
      ]
     },
     "metadata": {
      "needs_background": "light"
     },
     "output_type": "display_data"
    }
   ],
   "source": [
    "from itertools import product\n",
    "import matplotlib.pyplot as plt\n",
    "import random\n",
    "\n",
    "outcomes = list(product(range(1, 7), repeat=5))\n",
    "\n",
    "def score_for_A(rolls):\n",
    "    score = 0\n",
    "    position = 1\n",
    "    primes = {2, 3, 5, 7}\n",
    "    for roll in rolls:\n",
    "        position += roll\n",
    "        if position in primes:\n",
    "            score += 2\n",
    "        if position >= 9:\n",
    "            score += 4\n",
    "            position = 1\n",
    "    return score\n",
    "\n",
    "scores = [score_for_A(rolls) for rolls in outcomes]\n",
    "\n",
    "score_counts = {}\n",
    "for score in scores:\n",
    "    if score in score_counts:\n",
    "        score_counts[score] += 1\n",
    "    else:\n",
    "        score_counts[score] = 1\n",
    "\n",
    "total_possibilities = len(outcomes)\n",
    "\n",
    "score_probabilities = {score: count / total_possibilities for score, count in score_counts.items()}\n",
    "\n",
    "print(score_probabilities)\n",
    "\n",
    "plt.figure(figsize=(10, 6))\n",
    "plt.bar(score_probabilities.keys(), score_probabilities.values(), color='skyblue')\n",
    "plt.xlabel('Scores')\n",
    "plt.ylabel('Probability')\n",
    "plt.title('Probability Distribution of Scores for Player A')\n",
    "plt.xticks(list(score_probabilities.keys()))\n",
    "plt.grid(axis='y')\n",
    "plt.show()\n"
   ]
  },
  {
   "cell_type": "code",
   "execution_count": 2,
   "id": "77f0d1a8-0deb-45cf-b289-fab818abbf84",
   "metadata": {},
   "outputs": [
    {
     "name": "stdout",
     "output_type": "stream",
     "text": [
      "{6: 0.375, 8: 0.21875, 4: 0.15625, 12: 0.09375, 10: 0.15625}\n"
     ]
    },
    {
     "data": {
      "image/png": "[encoded data removed]",
      "text/plain": [
       "<Figure size 720x432 with 1 Axes>"
      ]
     },
     "metadata": {
      "needs_background": "light"
     },
     "output_type": "display_data"
    }
   ],
   "source": [
    "\n",
    "outcomes_B = list(product(range(2), repeat=5))\n",
    "\n",
    "outcomes_B = [[flip + 1 for flip in outcome] for outcome in outcomes_B]\n",
    "\n",
    "def score_for_B(flips):\n",
    "    score = 0\n",
    "    position = 1\n",
    "    primes = {2, 3, 5, 7}\n",
    "    for flip in flips:\n",
    "        position += flip\n",
    "        if position in primes:\n",
    "            score += 2\n",
    "        if position >= 9:\n",
    "            score += 4\n",
    "            position = 1\n",
    "    return score\n",
    "\n",
    "scores_B = [score_for_B(flips) for flips in outcomes_B]\n",
    "\n",
    "score_counts_B = {}\n",
    "for score in scores_B:\n",
    "    if score in score_counts_B:\n",
    "        score_counts_B[score] += 1\n",
    "    else:\n",
    "        score_counts_B[score] = 1\n",
    "\n",
    "total_possibilities_B = len(outcomes_B)\n",
    "\n",
    "score_probabilities_B = {score: count / total_possibilities_B for score, count in score_counts_B.items()}\n",
    "\n",
    "print(score_probabilities_B)\n",
    "\n",
    "plt.figure(figsize=(10, 6))\n",
    "plt.bar(score_probabilities_B.keys(), score_probabilities_B.values(), color='lightgreen')\n",
    "plt.xlabel('Scores')\n",
    "plt.ylabel('Probability')\n",
    "plt.title('Probability Distribution of Scores for Player B')\n",
    "plt.xticks(list(score_probabilities_B.keys()))\n",
    "plt.grid(axis='y')\n",
    "plt.show()\n"
   ]
  },
  {
   "cell_type": "code",
   "execution_count": 3,
   "id": "796f1a6d-0e6a-4de1-87cf-d3960fedf971",
   "metadata": {},
   "outputs": [
    {
     "data": {
      "text/plain": [
       "{'A': 0.709102, 'B': 0.133533, 'Draw': 0.157365}"
      ]
     },
     "execution_count": 3,
     "metadata": {},
     "output_type": "execute_result"
    }
   ],
   "source": [
    "def simulate_game():\n",
    "    primes = {2, 3, 5, 7}\n",
    "    \n",
    "    def simulate_A():\n",
    "        score, position = 0, 1\n",
    "        for _ in range(5):\n",
    "            roll = random.randint(1, 6)\n",
    "            position += roll\n",
    "            if position in primes:\n",
    "                score += 2\n",
    "            if position >= 9:\n",
    "                score += 4\n",
    "                position = 1\n",
    "        return score\n",
    "    \n",
    "    def simulate_B():\n",
    "        score, position = 0, 1\n",
    "        for _ in range(5):\n",
    "            flip = random.randint(1, 2)\n",
    "            position += flip\n",
    "            if position in primes:\n",
    "                score += 2\n",
    "            if position >= 9:\n",
    "                score += 4\n",
    "                position = 1\n",
    "        return score\n",
    "\n",
    "    score_A = simulate_A()\n",
    "    score_B = simulate_B()\n",
    "    \n",
    "    if score_A > score_B:\n",
    "        return 'A'\n",
    "    elif score_B > score_A:\n",
    "        return 'B'\n",
    "    else:\n",
    "        return 'Draw'\n",
    "\n",
    "wins = {'A': 0, 'B': 0, 'Draw': 0}\n",
    "for _ in range(1000000):\n",
    "    result = simulate_game()\n",
    "    wins[result] += 1\n",
    "\n",
    "win_rates = {player: wins[player] / 1000000 for player in wins}\n",
    "\n",
    "win_rates\n"
   ]
  },
  {
   "cell_type": "code",
   "execution_count": 4,
   "id": "2bf3232b-10ae-4e88-b253-2c87d396a7d7",
   "metadata": {},
   "outputs": [
    {
     "data": {
      "text/plain": [
       "{'A': 0.85395, 'B': 0.06687, 'Draw': 0.07918}"
      ]
     },
     "execution_count": 4,
     "metadata": {},
     "output_type": "execute_result"
    }
   ],
   "source": [
    "\n",
    "def simulate_game_10_rounds():\n",
    "    primes = {2, 3, 5, 7}\n",
    "    \n",
    "    def simulate_A():\n",
    "        score, position = 0, 1\n",
    "        for _ in range(10):  \n",
    "            roll = random.randint(1, 6)\n",
    "            position += roll\n",
    "            if position in primes:\n",
    "                score += 2\n",
    "            if position >= 9:\n",
    "                score += 4\n",
    "                position = 1\n",
    "        return score\n",
    "    \n",
    "    def simulate_B():\n",
    "        score, position = 0, 1\n",
    "        for _ in range(10): \n",
    "            flip = random.randint(1, 2)\n",
    "            position += flip\n",
    "            if position in primes:\n",
    "                score += 2\n",
    "            if position >= 9:\n",
    "                score += 4\n",
    "                position = 1\n",
    "        return score\n",
    "\n",
    "    score_A = simulate_A()\n",
    "    score_B = simulate_B()\n",
    "    \n",
    "    if score_A > score_B:\n",
    "        return 'A'\n",
    "    elif score_B > score_A:\n",
    "        return 'B'\n",
    "    else:\n",
    "        return 'Draw'\n",
    "\n",
    "wins_10_rounds = {'A': 0, 'B': 0, 'Draw': 0}\n",
    "for _ in range(100000):\n",
    "    result = simulate_game_10_rounds()\n",
    "    wins_10_rounds[result] += 1\n",
    "\n",
    "win_rates_10_rounds = {player: wins_10_rounds[player] / 100000 for player in wins_10_rounds}\n",
    "\n",
    "win_rates_10_rounds\n"
   ]
  },
  {
   "cell_type": "code",
   "execution_count": 5,
   "id": "76e678a3-9cb1-4b4e-91bb-d5913760b948",
   "metadata": {},
   "outputs": [
    {
     "data": {
      "image/png": "[encoded data removed]",
      "text/plain": [
       "<Figure size 720x432 with 1 Axes>"
      ]
     },
     "metadata": {
      "needs_background": "light"
     },
     "output_type": "display_data"
    }
   ],
   "source": [
    "def simulate_game_rounds(n_rounds):\n",
    "    primes = {2, 3, 5, 7}\n",
    "    \n",
    "    def simulate_A():\n",
    "        score, position = 0, 1\n",
    "        for _ in range(n_rounds):\n",
    "            roll = random.randint(1, 6)\n",
    "            position += roll\n",
    "            if position in primes:\n",
    "                score += 2\n",
    "            if position >= 9:\n",
    "                score += 4\n",
    "                position = 1\n",
    "        return score\n",
    "    \n",
    "    def simulate_B():\n",
    "        score, position = 0, 1\n",
    "        for _ in range(n_rounds):\n",
    "            flip = random.randint(1, 2)\n",
    "            position += flip\n",
    "            if position in primes:\n",
    "                score += 2\n",
    "            if position >= 9:\n",
    "                score += 4\n",
    "                position = 1\n",
    "        return score\n",
    "\n",
    "    score_A = simulate_A()\n",
    "    score_B = simulate_B()\n",
    "    \n",
    "    return 'A' if score_A > score_B else 'B' if score_B > score_A else 'Draw'\n",
    "\n",
    "rounds = [5, 10, 15, 20, 25]\n",
    "win_rates_A = []\n",
    "\n",
    "for n_rounds in rounds:\n",
    "    wins = {'A': 0, 'B': 0, 'Draw': 0}\n",
    "    for _ in range(100000):\n",
    "        result = simulate_game_rounds(n_rounds)\n",
    "        wins[result] += 1\n",
    "    win_rates_A.append(wins['A'] / 100000)\n",
    "\n",
    "plt.figure(figsize=(10, 6))\n",
    "plt.plot(rounds, win_rates_A, marker='o', linestyle='-', color='blue')\n",
    "plt.xlabel('Number of Rounds')\n",
    "plt.ylabel('Winning Rate for Player A')\n",
    "plt.title('Winning Rate for Player A Over Different Rounds')\n",
    "plt.xticks(rounds)\n",
    "plt.grid(True)\n",
    "plt.show()\n"
   ]
  },
  {
   "cell_type": "code",
   "execution_count": 6,
   "id": "9bb03968-ad83-4898-a9ea-7bf6cb3aa218",
   "metadata": {},
   "outputs": [
    {
     "data": {
      "text/plain": [
       "(0.7437833333333334, 0.25621666666666665)"
      ]
     },
     "execution_count": 6,
     "metadata": {},
     "output_type": "execute_result"
    }
   ],
   "source": [
    "primes = [2, 3, 5, 7, 11, 13, 17, 19, 23]\n",
    "\n",
    "def simulate_game():\n",
    "    score_A, score_B = 0, 0\n",
    "    position_A, position_B = 1, 1\n",
    "\n",
    "    while score_A < 20 and score_B < 20:\n",
    "        move_A = random.randint(1, 6)\n",
    "        move_B = random.randint(1, 2)\n",
    "\n",
    "        position_A += move_A\n",
    "        position_B += move_B\n",
    "\n",
    "        if position_A > 25:\n",
    "            score_A += 4  \n",
    "            position_A = 1\n",
    "        if position_B > 25:\n",
    "            score_B += 4  \n",
    "            position_B = 1\n",
    "\n",
    "        if position_A in primes:\n",
    "            score_A += 2\n",
    "        if position_B in primes:\n",
    "            score_B += 2\n",
    "\n",
    "    if score_A >= 20:\n",
    "        return 'A'\n",
    "    else:\n",
    "        return 'B'\n",
    "\n",
    "wins_A, wins_B = 0, 0\n",
    "for _ in range(300000):\n",
    "    winner = simulate_game()\n",
    "    if winner == 'A':\n",
    "        wins_A += 1\n",
    "    else:\n",
    "        wins_B += 1\n",
    "\n",
    "prob_A = wins_A / 300000\n",
    "prob_B = wins_B / 300000\n",
    "(prob_A, prob_B)\n"
   ]
  },
  {
   "cell_type": "code",
   "execution_count": 7,
   "id": "9a1a55fc-c74a-440e-afaa-2f424dcef352",
   "metadata": {},
   "outputs": [
    {
     "data": {
      "text/plain": [
       "{'A': 0.470431, 'B': 0.251889, 'Draw': 0.27768}"
      ]
     },
     "execution_count": 7,
     "metadata": {},
     "output_type": "execute_result"
    }
   ],
   "source": [
    "def simulate_game():\n",
    "    primes = {2, 3, 5, 7}\n",
    "    \n",
    "    def simulate_A():\n",
    "        score, position = 0, 1\n",
    "        for _ in range(5):\n",
    "            roll = random.randint(1, 6)\n",
    "            position += roll\n",
    "            if position in primes:\n",
    "                score += 2\n",
    "            if position >= 9:\n",
    "                score += 2\n",
    "                position = 1\n",
    "        return score\n",
    "    \n",
    "    def simulate_B():\n",
    "        score, position = 0, 1\n",
    "        for _ in range(5):\n",
    "            flip = random.randint(1, 2)\n",
    "            position += flip\n",
    "            if position in primes:\n",
    "                score += 2\n",
    "            if position >= 9:\n",
    "                score += 2\n",
    "                position = 1\n",
    "        return score\n",
    "\n",
    "    score_A = simulate_A()\n",
    "    score_B = simulate_B()\n",
    "    \n",
    "    if score_A > score_B:\n",
    "        return 'A'\n",
    "    elif score_B > score_A:\n",
    "        return 'B'\n",
    "    else:\n",
    "        return 'Draw'\n",
    "\n",
    "wins = {'A': 0, 'B': 0, 'Draw': 0}\n",
    "for _ in range(1000000):\n",
    "    result = simulate_game()\n",
    "    wins[result] += 1\n",
    "\n",
    "win_rates = {player: wins[player] / 1000000 for player in wins}\n",
    "\n",
    "win_rates\n",
    "\n"
   ]
  },
  {
   "cell_type": "code",
   "execution_count": 8,
   "id": "c709f07c-21c3-4dc8-ba45-9791857c53d6",
   "metadata": {},
   "outputs": [
    {
     "data": {
      "text/plain": [
       "(0.56795, 0.43205)"
      ]
     },
     "execution_count": 8,
     "metadata": {},
     "output_type": "execute_result"
    }
   ],
   "source": [
    "primes = [2, 3, 5, 7, 11, 13, 17, 19, 23]\n",
    "\n",
    "def simulate_game():\n",
    "    score_A, score_B = 0, 0\n",
    "    position_A, position_B = 1, 1\n",
    "\n",
    "    while score_A < 20 and score_B < 20:\n",
    "        move_A = random.randint(1, 6)\n",
    "        move_B = random.randint(1, 2)\n",
    "\n",
    "        position_A += move_A\n",
    "        position_B += move_B\n",
    "\n",
    "        if position_A > 25:\n",
    "            score_A += 2  \n",
    "            position_A = 1\n",
    "        if position_B > 25:\n",
    "            score_B += 2  \n",
    "            position_B = 1\n",
    "\n",
    "        if position_A in primes:\n",
    "            score_A += 2\n",
    "        if position_B in primes:\n",
    "            score_B += 2\n",
    "\n",
    "    if score_A >= 20:\n",
    "        return 'A'\n",
    "    else:\n",
    "        return 'B'\n",
    "\n",
    "wins_A, wins_B = 0, 0\n",
    "for _ in range(300000):\n",
    "    winner = simulate_game()\n",
    "    if winner == 'A':\n",
    "        wins_A += 1\n",
    "    else:\n",
    "        wins_B += 1\n",
    "\n",
    "prob_A = wins_A / 300000\n",
    "prob_B = wins_B / 300000\n",
    "(prob_A, prob_B)"
   ]
  },
  {
   "cell_type": "code",
   "execution_count": 9,
   "id": "66e451df-aa4d-4440-adcf-8ba36ea1fbac",
   "metadata": {},
   "outputs": [
    {
     "data": {
      "text/plain": [
       "{'A': 0.377595, 'B': 0.467419, 'Draw': 0.154986}"
      ]
     },
     "execution_count": 9,
     "metadata": {},
     "output_type": "execute_result"
    }
   ],
   "source": [
    "def simulate_game():\n",
    "    primes = {2, 3, 5, 7}\n",
    "    \n",
    "    def simulate_A():\n",
    "        score, position = 0, 1\n",
    "        for _ in range(5):\n",
    "            roll = random.randint(1, 6)\n",
    "            position += roll\n",
    "            if position in primes:\n",
    "                score += 2\n",
    "            if position >= 9:\n",
    "                score += 1\n",
    "                position = 1\n",
    "        return score\n",
    "    \n",
    "    def simulate_B():\n",
    "        score, position = 0, 1\n",
    "        for _ in range(5):\n",
    "            flip = random.randint(1, 2)\n",
    "            position += flip\n",
    "            if position in primes:\n",
    "                score += 2\n",
    "            if position >= 9:\n",
    "                score += 1\n",
    "                position = 1\n",
    "        return score\n",
    "\n",
    "    score_A = simulate_A()\n",
    "    score_B = simulate_B()\n",
    "    \n",
    "    if score_A > score_B:\n",
    "        return 'A'\n",
    "    elif score_B > score_A:\n",
    "        return 'B'\n",
    "    else:\n",
    "        return 'Draw'\n",
    "\n",
    "wins = {'A': 0, 'B': 0, 'Draw': 0}\n",
    "for _ in range(1000000):\n",
    "    result = simulate_game()\n",
    "    wins[result] += 1\n",
    "\n",
    "win_rates = {player: wins[player] / 1000000 for player in wins}\n",
    "\n",
    "win_rates\n"
   ]
  },
  {
   "cell_type": "code",
   "execution_count": 10,
   "id": "28351784-d46e-4464-b282-2e9defc44d6a",
   "metadata": {},
   "outputs": [
    {
     "data": {
      "text/plain": [
       "(0.4979866666666667, 0.5020133333333333)"
      ]
     },
     "execution_count": 10,
     "metadata": {},
     "output_type": "execute_result"
    }
   ],
   "source": [
    "primes = [2, 3, 5, 7, 11, 13, 17, 19, 23]\n",
    "\n",
    "def simulate_game():\n",
    "    score_A, score_B = 0, 0\n",
    "    position_A, position_B = 1, 1\n",
    "\n",
    "    while score_A < 20 and score_B < 20:\n",
    "        move_A = random.randint(1, 6)\n",
    "        move_B = random.randint(1, 2)\n",
    "\n",
    "        position_A += move_A\n",
    "        position_B += move_B\n",
    "\n",
    "        if position_A > 25:\n",
    "            score_A += 1  \n",
    "            position_A = 1\n",
    "        if position_B > 25:\n",
    "            score_B += 1  \n",
    "            position_B = 1\n",
    "\n",
    "        if position_A in primes:\n",
    "            score_A += 2\n",
    "        if position_B in primes:\n",
    "            score_B += 2\n",
    "\n",
    "    if score_A >= 20:\n",
    "        return 'A'\n",
    "    else:\n",
    "        return 'B'\n",
    "\n",
    "wins_A, wins_B = 0, 0\n",
    "for _ in range(300000):\n",
    "    winner = simulate_game()\n",
    "    if winner == 'A':\n",
    "        wins_A += 1\n",
    "    else:\n",
    "        wins_B += 1\n",
    "\n",
    "prob_A = wins_A / 300000\n",
    "prob_B = wins_B / 300000\n",
    "(prob_A, prob_B)"
   ]
  },
  {
   "cell_type": "code",
   "execution_count": null,
   "id": "486b0db6-84bc-4ef7-97cc-cac54c58a43c",
   "metadata": {},
   "outputs": [],
   "source": []
  }
 ],
 "metadata": {
  "kernelspec": {
   "display_name": "Python 3 (ipykernel)",
   "language": "python",
   "name": "python3"
  },
  "language_info": {
   "codemirror_mode": {
    "name": "ipython",
    "version": 3
   },
   "file_extension": ".py",
   "mimetype": "text/x-python",
   "name": "python",
   "nbconvert_exporter": "python",
   "pygments_lexer": "ipython3",
   "version": "3.9.7"
  }
 },
 "nbformat": 4,
 "nbformat_minor": 5
}
